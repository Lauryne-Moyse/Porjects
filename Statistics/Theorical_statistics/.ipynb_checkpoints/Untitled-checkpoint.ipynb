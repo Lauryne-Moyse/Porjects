{
 "cells": [
  {
   "cell_type": "markdown",
   "metadata": {},
   "source": [
    "# Mini-projet MDI220\n",
    "\n",
    "Lauryne Moyse"
   ]
  },
  {
   "cell_type": "code",
   "execution_count": 103,
   "metadata": {},
   "outputs": [],
   "source": [
    "import numpy as np \n",
    "import pandas as pd\n",
    "import datetime as dt\n",
    "import matplotlib.pyplot as plt\n",
    "import scipy.stats as s"
   ]
  },
  {
   "cell_type": "markdown",
   "metadata": {},
   "source": [
    "## Exercice 1\n",
    "\n",
    "### Question 1"
   ]
  },
  {
   "cell_type": "code",
   "execution_count": 104,
   "metadata": {},
   "outputs": [],
   "source": [
    "data = pd.read_csv(open(\"NuclearPowerAccidents2016.csv\"))"
   ]
  },
  {
   "cell_type": "markdown",
   "metadata": {},
   "source": [
    "On compare les dates de chaque entrée à une date de référence. SI le résultat de la comparaison est satisfaisant, on ajoute à la liste la valeur des coûts, quand celle-ci est fournie."
   ]
  },
  {
   "cell_type": "code",
   "execution_count": 113,
   "metadata": {},
   "outputs": [
    {
     "name": "stdout",
     "output_type": "stream",
     "text": [
      "55\n"
     ]
    }
   ],
   "source": [
    "limit=dt.datetime(1979, 3,28)\n",
    "costs=[]\n",
    "\n",
    "for i in data.index :\n",
    "    split=data['Date'][i].split('/')\n",
    "    date=dt.datetime(int(split[2]),int(split[0]),int(split[1]))\n",
    "    if date<limit and data.values[i][2]>=0 :\n",
    "        costs.append(data.values[i][2])\n",
    "        \n",
    "print(len(costs))\n"
   ]
  },
  {
   "cell_type": "markdown",
   "metadata": {},
   "source": [
    "### Question 2.a\n",
    "\n",
    "La fonction de répartition d'une loi normale de paramètre $\\mu$, $\\sigma$ est :\n",
    "\n",
    "$$ \\int_{-\\infty}^{x} \\frac{1}{\\sqrt{2\\pi}\\sigma} \\exp(-\\frac{(x-\\mu)^2}{2\\sigma^2}) dx$$\n",
    "\n",
    "C'est une fonction continue et strictement croissante sur $\\mathbb{R}^+$, elle est donc bijective.\n",
    "Calculons $F(\\sigma  \\cdot F^{-1}(p;0;1)+ \\mu) :$\n",
    "\n",
    "$$F(\\sigma  \\cdot F^{-1}(p;0;1)+ \\mu)=\\int_{-\\infty}^{\\sigma  \\cdot F^{-1}(p;0;1)+ \\mu} \\frac{1}{\\sqrt{2\\pi}\\sigma} \\exp(-\\frac{(x-\\mu)^2}{2\\sigma^2}) dx$$ \n",
    "\n",
    "On pose : $u=\\frac{x-\\mu}{\\sigma}$ et $dx=\\sigma dt$\n",
    "\n",
    "On obtient : $$F(\\sigma  \\cdot F^{-1}(p;0;1)+ \\mu) = \\int_{-\\infty}^{F^{-1}(p;0;1)} \\frac{1}{\\sqrt{2\\pi}} \\exp(-\\frac{u^2}{2}) du$$\n",
    "\n",
    "\n",
    "On reconnaît que l'expression A est égale à : $F_{(0,1)}(F^{-1}(p;0;1))=p$, par definition.\n",
    "\n",
    "Or :  $$p=F(F^{-1}(p;\\mu;\\sigma))$$ \n",
    "Donc : $$F(F^{-1}(p;\\mu;\\sigma))=F_{(0,1)}(F^{-1}(p;0;1))=F(\\sigma  \\cdot F^{-1}(p;0;1)+ \\mu).$$\n",
    "\n",
    "Par bijectivité de F, on obtient : $$F^{-1}(p;\\mu;\\sigma)=\\sigma  \\cdot F^{-1}(p;0;1)+ \\mu$$\n",
    "\n",
    "\n",
    "\n",
    "\n"
   ]
  },
  {
   "cell_type": "markdown",
   "metadata": {},
   "source": [
    "### Question 2.b"
   ]
  },
  {
   "cell_type": "code",
   "execution_count": 69,
   "metadata": {},
   "outputs": [
    {
     "data": {
      "text/plain": [
       "((array([-2.49592115, -2.1636693 , -1.97198406, -1.83346726, -1.72318652,\n",
       "         -1.63059177, -1.5501806 , -1.47870243, -1.41406933, -1.35485664,\n",
       "         -1.30004682, -1.24888645, -1.20080128, -1.15534302, -1.11215463,\n",
       "         -1.07094678, -1.03148157, -0.99356081, -0.9570175 , -0.92170953,\n",
       "         -0.88751481, -0.85432763, -0.82205575, -0.79061814, -0.75994319,\n",
       "         -0.72996721, -0.70063326, -0.67189019, -0.64369183, -0.61599628,\n",
       "         -0.58876539, -0.56196429, -0.53556093, -0.50952579, -0.48383156,\n",
       "         -0.45845289, -0.43336615, -0.40854926, -0.3839815 , -0.35964337,\n",
       "         -0.33551645, -0.3115833 , -0.28782734, -0.26423272, -0.24078432,\n",
       "         -0.21746758, -0.19426849, -0.1711735 , -0.14816946, -0.12524358,\n",
       "         -0.10238334, -0.07957649, -0.05681096, -0.03407484, -0.01135633,\n",
       "          0.01135633,  0.03407484,  0.05681096,  0.07957649,  0.10238334,\n",
       "          0.12524358,  0.14816946,  0.1711735 ,  0.19426849,  0.21746758,\n",
       "          0.24078432,  0.26423272,  0.28782734,  0.3115833 ,  0.33551645,\n",
       "          0.35964337,  0.3839815 ,  0.40854926,  0.43336615,  0.45845289,\n",
       "          0.48383156,  0.50952579,  0.53556093,  0.56196429,  0.58876539,\n",
       "          0.61599628,  0.64369183,  0.67189019,  0.70063326,  0.72996721,\n",
       "          0.75994319,  0.79061814,  0.82205575,  0.85432763,  0.88751481,\n",
       "          0.92170953,  0.9570175 ,  0.99356081,  1.03148157,  1.07094678,\n",
       "          1.11215463,  1.15534302,  1.20080128,  1.24888645,  1.30004682,\n",
       "          1.35485664,  1.41406933,  1.47870243,  1.5501806 ,  1.63059177,\n",
       "          1.72318652,  1.83346726,  1.97198406,  2.1636693 ,  2.49592115]),\n",
       "  array([0.0000e+00, 0.0000e+00, 0.0000e+00, 0.0000e+00, 0.0000e+00,\n",
       "         0.0000e+00, 0.0000e+00, 0.0000e+00, 0.0000e+00, 0.0000e+00,\n",
       "         0.0000e+00, 0.0000e+00, 0.0000e+00, 0.0000e+00, 0.0000e+00,\n",
       "         0.0000e+00, 1.1000e+00, 1.1000e+00, 1.2000e+00, 1.2000e+00,\n",
       "         4.4000e+00, 4.4000e+00, 6.1000e+00, 6.1000e+00, 1.1400e+01,\n",
       "         1.1400e+01, 1.1800e+01, 1.1800e+01, 1.3900e+01, 1.3900e+01,\n",
       "         1.5000e+01, 1.5000e+01, 1.6100e+01, 1.6100e+01, 1.7100e+01,\n",
       "         1.7100e+01, 2.5700e+01, 2.5700e+01, 2.5700e+01, 2.5700e+01,\n",
       "         3.7500e+01, 3.7500e+01, 3.8000e+01, 3.8000e+01, 5.2400e+01,\n",
       "         5.2400e+01, 6.0100e+01, 6.0100e+01, 7.7000e+01, 7.7000e+01,\n",
       "         8.4500e+01, 8.4500e+01, 8.7700e+01, 8.7700e+01, 8.9900e+01,\n",
       "         8.9900e+01, 9.8000e+01, 9.8000e+01, 9.9500e+01, 9.9500e+01,\n",
       "         1.0000e+02, 1.0000e+02, 1.0000e+02, 1.0000e+02, 1.5000e+02,\n",
       "         1.5000e+02, 1.8000e+02, 1.8000e+02, 2.7710e+02, 2.7710e+02,\n",
       "         4.2520e+02, 4.2520e+02, 5.1150e+02, 5.1150e+02, 5.4140e+02,\n",
       "         5.4140e+02, 7.8840e+02, 7.8840e+02, 7.9390e+02, 7.9390e+02,\n",
       "         8.0000e+02, 8.0000e+02, 9.9000e+02, 9.9000e+02, 1.1000e+03,\n",
       "         1.1000e+03, 1.1000e+03, 1.1000e+03, 1.3000e+03, 1.3000e+03,\n",
       "         1.3300e+03, 1.3300e+03, 1.5000e+03, 1.5000e+03, 1.7334e+03,\n",
       "         1.7334e+03, 1.9000e+03, 1.9000e+03, 1.9645e+03, 1.9645e+03,\n",
       "         2.5000e+03, 2.5000e+03, 2.9000e+03, 2.9000e+03, 3.5000e+03,\n",
       "         3.5000e+03, 4.4000e+03, 4.4000e+03, 8.1890e+03, 8.1890e+03])),\n",
       " (1060.0025008416378, 726.3363636363634, 0.7468379739466858))"
      ]
     },
     "execution_count": 69,
     "metadata": {},
     "output_type": "execute_result"
    },
    {
     "data": {
      "image/png": "[encoded data removed]",
      "text/plain": [
       "<Figure size 432x288 with 1 Axes>"
      ]
     },
     "metadata": {
      "needs_background": "light"
     },
     "output_type": "display_data"
    }
   ],
   "source": [
    "s.probplot(costs,plot=plt)"
   ]
  },
  {
   "cell_type": "markdown",
   "metadata": {},
   "source": [
    "### Question 3.a\n",
    "\n",
    "\n",
    "Calculons $F(\\frac{1}{\\lambda}F_{1}^{-1}(p))$, avec F la fonction de répartion d'une loi exponentielle de paramètre \\lambda. F est continue et strictement croissante sur $\\mathbb{R}^+$, elle est donc bijective :\n",
    "\n",
    "$$F(\\frac{1}{\\lambda}F^{-1}(p;1)) = \\int_{-\\infty}^{\\frac{1}{\\lambda}F^{-1}(p;1)} \\lambda \\exp(-\\lambda x) dx$$\n",
    "\n",
    "\n",
    "On pose $u = \\lambda x$, $dx = \\frac{1}{\\lambda} dz$ \n",
    "\n",
    "On obtient : $$F(\\frac{1}{\\lambda}F^{-1}(p;1)) = \\int_{-\\infty}^{F^{-1}(p;1)} \\exp(-u) du = F_{1}(F^{-1}(p;1))=p$$\n",
    "\n",
    "De plus, $F(F^{-1}(p,\\lambda)) = p$\n",
    "\n",
    "Donc, par bijectivité de F, on a : $$F(F^{-1}(p;\\lambda))=F(\\frac{1}{\\lambda}F^{-1}(p;1))$$\n"
   ]
  },
  {
   "cell_type": "markdown",
   "metadata": {},
   "source": [
    "### Question 3.b"
   ]
  },
  {
   "cell_type": "code",
   "execution_count": 70,
   "metadata": {},
   "outputs": [
    {
     "data": {
      "text/plain": [
       "((array([0.00630134, 0.01536227, 0.02460597, 0.03393592, 0.04335374,\n",
       "         0.05286109, 0.06245971, 0.07215135, 0.08193784, 0.09182105,\n",
       "         0.10180292, 0.11188543, 0.12207063, 0.13236064, 0.14275764,\n",
       "         0.15326387, 0.16388165, 0.17461338, 0.18546153, 0.19642866,\n",
       "         0.2075174 , 0.21873048, 0.23007072, 0.24154104, 0.25314445,\n",
       "         0.26488409, 0.27676318, 0.28878508, 0.30095327, 0.31327136,\n",
       "         0.32574307, 0.33837229, 0.35116305, 0.36411953, 0.3772461 ,\n",
       "         0.39054726, 0.40402773, 0.41769241, 0.43154641, 0.44559504,\n",
       "         0.45984384, 0.47429862, 0.4889654 , 0.5038505 , 0.51896053,\n",
       "         0.53430237, 0.54988326, 0.56571075, 0.58179279, 0.5981377 ,\n",
       "         0.61475421, 0.6316515 , 0.64883922, 0.66632753, 0.68412714,\n",
       "         0.70224932, 0.72070599, 0.73950972, 0.75867382, 0.77821237,\n",
       "         0.7981403 , 0.81847343, 0.8392286 , 0.86042369, 0.88207776,\n",
       "         0.90421113, 0.92684549, 0.95000405, 0.97371168, 0.99799503,\n",
       "         1.02288277, 1.04840575, 1.07459726, 1.10149325, 1.12913268,\n",
       "         1.15755782, 1.18681464, 1.21695329, 1.24802858, 1.2801006 ,\n",
       "         1.31323541, 1.34750587, 1.38299261, 1.41978513, 1.45798323,\n",
       "         1.49769856, 1.53905668, 1.58219935, 1.62728757, 1.67450512,\n",
       "         1.72406314, 1.7762058 , 1.8312176 , 1.88943279, 1.95124761,\n",
       "         2.01713675, 2.08767541, 2.16356996, 2.24570106, 2.33518617,\n",
       "         2.43347292, 2.54248355, 2.66484804, 2.80430089, 2.96640178,\n",
       "         3.1599609 , 3.40020119, 3.71704386, 4.18351227, 5.0701423 ]),\n",
       "  array([0.0000e+00, 0.0000e+00, 0.0000e+00, 0.0000e+00, 0.0000e+00,\n",
       "         0.0000e+00, 0.0000e+00, 0.0000e+00, 0.0000e+00, 0.0000e+00,\n",
       "         0.0000e+00, 0.0000e+00, 0.0000e+00, 0.0000e+00, 0.0000e+00,\n",
       "         0.0000e+00, 1.1000e+00, 1.1000e+00, 1.2000e+00, 1.2000e+00,\n",
       "         4.4000e+00, 4.4000e+00, 6.1000e+00, 6.1000e+00, 1.1400e+01,\n",
       "         1.1400e+01, 1.1800e+01, 1.1800e+01, 1.3900e+01, 1.3900e+01,\n",
       "         1.5000e+01, 1.5000e+01, 1.6100e+01, 1.6100e+01, 1.7100e+01,\n",
       "         1.7100e+01, 2.5700e+01, 2.5700e+01, 2.5700e+01, 2.5700e+01,\n",
       "         3.7500e+01, 3.7500e+01, 3.8000e+01, 3.8000e+01, 5.2400e+01,\n",
       "         5.2400e+01, 6.0100e+01, 6.0100e+01, 7.7000e+01, 7.7000e+01,\n",
       "         8.4500e+01, 8.4500e+01, 8.7700e+01, 8.7700e+01, 8.9900e+01,\n",
       "         8.9900e+01, 9.8000e+01, 9.8000e+01, 9.9500e+01, 9.9500e+01,\n",
       "         1.0000e+02, 1.0000e+02, 1.0000e+02, 1.0000e+02, 1.5000e+02,\n",
       "         1.5000e+02, 1.8000e+02, 1.8000e+02, 2.7710e+02, 2.7710e+02,\n",
       "         4.2520e+02, 4.2520e+02, 5.1150e+02, 5.1150e+02, 5.4140e+02,\n",
       "         5.4140e+02, 7.8840e+02, 7.8840e+02, 7.9390e+02, 7.9390e+02,\n",
       "         8.0000e+02, 8.0000e+02, 9.9000e+02, 9.9000e+02, 1.1000e+03,\n",
       "         1.1000e+03, 1.1000e+03, 1.1000e+03, 1.3000e+03, 1.3000e+03,\n",
       "         1.3300e+03, 1.3300e+03, 1.5000e+03, 1.5000e+03, 1.7334e+03,\n",
       "         1.7334e+03, 1.9000e+03, 1.9000e+03, 1.9645e+03, 1.9645e+03,\n",
       "         2.5000e+03, 2.5000e+03, 2.9000e+03, 2.9000e+03, 3.5000e+03,\n",
       "         3.5000e+03, 4.4000e+03, 4.4000e+03, 8.1890e+03, 8.1890e+03])),\n",
       " (1361.5284289889921, -621.0192784721504, 0.9364485955537573))"
      ]
     },
     "execution_count": 70,
     "metadata": {},
     "output_type": "execute_result"
    },
    {
     "data": {
      "image/png": "[encoded data removed]",
      "text/plain": [
       "<Figure size 432x288 with 1 Axes>"
      ]
     },
     "metadata": {
      "needs_background": "light"
     },
     "output_type": "display_data"
    }
   ],
   "source": [
    "s.probplot(costs,dist='expon',plot=plt)"
   ]
  },
  {
   "cell_type": "markdown",
   "metadata": {},
   "source": [
    "### Question 4\n",
    "\n",
    "On observe graphiquement, que le QQ-plot relatif à la loi exponentiel se rapproche plus d'une droite que celui relatif à une loi normale. Ainsi, une répartition selon une loi exponentielle semble être plus plausible pour les données."
   ]
  },
  {
   "cell_type": "markdown",
   "metadata": {},
   "source": [
    "\n",
    "## Exercice 2"
   ]
  },
  {
   "cell_type": "markdown",
   "metadata": {},
   "source": [
    "### Question 1\n",
    "\n",
    "La fonction densité d'une loi exponentielle de paramètre $\\lambda$ est : $f(t)=\\lambda \\exp(-\\lambda t)$\n",
    "\n",
    "Donc : $p_{\\lambda}(x) = \\prod_{i=1}^n \\lambda \\exp(-\\lambda x_i) = \\lambda^n \\exp(-\\lambda S)$ avec $S = \\sum_{i=1}^n x_i$\n",
    "\n",
    "On a :  $p_{\\hat{\\lambda}_n(x)} = sup$ { $p_{\\lambda}(x), \\lambda\\in\\mathbb{R}^+ $}\n",
    "\n",
    "On recherche le point pour lequel la fonction suivante admet un extremum : \n",
    "$\\ln(p_{\\lambda}(x)) = n\\ln(\\lambda)-\\lambda S$\n",
    "\n",
    "$\\frac{\\partial \\ln p_{\\lambda}(x)}{\\partial \\lambda} = 0 \\iff  \\frac{n}{\\lambda} - S=0 $\n",
    "\n",
    "Comme ln est une fonction croissante, on en déduit :\n",
    "$\\hat{\\lambda}_n(x)=\\frac{n}{S}=\\frac{n}{\\sum_{i=1}^n x_i}$"
   ]
  },
  {
   "cell_type": "markdown",
   "metadata": {},
   "source": [
    "### Question 2"
   ]
  },
  {
   "cell_type": "code",
   "execution_count": 85,
   "metadata": {},
   "outputs": [
    {
     "data": {
      "text/plain": [
       "Text(0, 0.5, 'Density')"
      ]
     },
     "execution_count": 85,
     "metadata": {},
     "output_type": "execute_result"
    },
    {
     "data": {
      "image/png": "[encoded data removed]",
      "text/plain": [
       "<Figure size 432x288 with 1 Axes>"
      ]
     },
     "metadata": {
      "needs_background": "light"
     },
     "output_type": "display_data"
    }
   ],
   "source": [
    "plt.hist(costs, range =(0, max(costs)), density='True', label = \"costs\")\n",
    "lambda_n = len(costs)/sum(costs)\n",
    "density = lambda_n * np.exp(-estimator * X)\n",
    "X = np.linspace(0, max(costs))\n",
    "plt.plot(X, density, label = \"exponential density\")\n",
    "\n",
    "plt.xlabel(\"Cost (millions 2013US$)\")\n",
    "plt.ylabel(\"Density\")\n",
    "plt.legend()\n",
    "plt.show()"
   ]
  },
  {
   "cell_type": "markdown",
   "metadata": {},
   "source": [
    "### Question 3"
   ]
  },
  {
   "cell_type": "markdown",
   "metadata": {},
   "source": [
    "$\\forall i \\in [1;n], X_i  \\sim \\mathcal{E(\\lambda)}$ et les X_i sont iid \n",
    "\n",
    "On a donc : \n",
    "$$E_{\\lambda}({T_{1}}(X)) = E_{\\lambda}(\\frac{1}{n}\\sum_{i=1}^n X_i) = \\frac{1}{n}\\sum_{i=1}^n E_{\\lambda}(X_i) = \\frac{1}{n}\\sum_{i=1}^n \\frac{1}{\\lambda} = T_{1}(\\lambda)$$\n",
    "\n",
    "L'estimateur est sans biais.\n",
    "\n",
    "$\\mathrm{Var}({T_{1}}(X)) = \\mathrm{Var}(\\frac{1}{n}\\sum_{i=1}^n X_i)=\\frac{1}{n^2}\\sum_{i=1}^n \\mathrm{Var}(X_i) =\\frac{1}{n^2}\\sum_{i=1}^n (\\frac{1}{\\lambda^2})$\n",
    "\n",
    "D'où : $$\\mathrm{Var}(T_{1}(X))  = \\frac{1}{n\\lambda^2}$$ \n",
    "\n",
    "Calculons l'information de Fisher :\n",
    "\n",
    "$I(\\lambda)=\\mathrm{Var}(\\frac{\\partial \\ln p_{\\lambda}(x)}{\\partial \\lambda})=\\mathrm{Var}(\\frac{n}{\\lambda} - S)=\\mathrm{Var}(S) = n\\mathrm{Var}(X_i)= \\frac{n}{\\lambda^2}$\n",
    "\n",
    "\n",
    "On a : $\\frac{{g'_1(\\lambda)}^2}{I(\\lambda)} = \\frac{\\frac{1}{\\lambda^4}}{\\frac{n}{\\lambda^2}}=\\frac{1}{n\\lambda^2}=\\mathrm{Var}(T_1(X))$\n",
    "\n",
    "La varaince de l'estimateur atteint la borne de Cramér-Rao.\n",
    "\n",
    "On en déduit que l'estimateur est efficace."
   ]
  },
  {
   "cell_type": "markdown",
   "metadata": {},
   "source": [
    "### Question 4"
   ]
  },
  {
   "cell_type": "code",
   "execution_count": 88,
   "metadata": {},
   "outputs": [
    {
     "name": "stdout",
     "output_type": "stream",
     "text": [
      "726.3363636363633\n"
     ]
    }
   ],
   "source": [
    "g_1 = sum(costs)/len(costs)\n",
    "print(g_1)"
   ]
  },
  {
   "cell_type": "markdown",
   "metadata": {},
   "source": [
    "### Question 5"
   ]
  },
  {
   "cell_type": "markdown",
   "metadata": {},
   "source": [
    "$R(\\lambda, T_{1,\\eta}) = b(\\lambda,T_{1,\\eta})^2 + \\mathrm{Var}(T_{1,\\eta}(X)) $\n",
    "\n",
    "Or : $b(\\lambda,T_{1,\\eta})= E_{\\lambda}(\\eta T_1(X) - g_1(\\lambda)) = \\eta E_{\\lambda}(T_1(X)) - g_1(\\lambda)  = (\\eta-1)g_1(\\lambda)= \\frac{\\eta-1}{\\lambda}$\n",
    "\n",
    "Et : $\\mathrm{Var}(T_{1,\\eta}(X))=\\mathrm{Var}(\\eta T_{1}(X))={\\eta}^2 \\mathrm{Var}(T_1(X))= \\frac{\\eta^2}{n \\lambda^2}$\n",
    "\n",
    "Donc : $R(\\lambda, T_{1,\\eta}) = \\frac{(\\eta-1)^2}{\\lambda^2} +  \\frac{\\eta^2}{n \\lambda^2}$\n",
    "\n",
    "Soit $ \\theta > 0$, $$R(\\lambda, T_{1,\\eta}) < R(\\lambda, T_1) \\iff \\frac{(\\eta-1)^2}{\\lambda^2} +  \\frac{\\eta^2}{n \\lambda^2} < \\frac{1}{n \\lambda^2} \\iff \\frac{1}{n \\lambda^2} - \\frac{(\\eta-1)^2}{\\lambda^2} - \\frac{\\eta^2}{n \\lambda^2} > 0 \\iff \\frac{1-n\\eta^2 -n +2n\\eta-\\eta^2}{n\\lambda^2} > 0 $$ \n",
    "\n",
    "\n",
    "Donc : $$R(\\lambda, T_{1,\\eta}) < R(\\lambda, T_1) \\iff \\frac{1-n\\eta^2 -n +2n\\eta-\\eta^2}{n} > 0$$\n",
    "$$\\iff  - \\frac{n+1}{n}\\eta^2 +2\\eta + \\frac{1-n}{n} > 0$$\n",
    "\n",
    "On obtient un trinôme du second degré. En calculant son discriminant et ses racines on trouve :\n",
    "$$R(\\lambda, T_{1,\\eta}) < R(\\lambda, T_1) \\iff \\eta \\in [\\frac{n-1}{n+1};1]$$\n",
    "\n",
    "On a trouvé un estimateur dont le risque est inférieur au risque d'un estimateur efficace, c'est-à-dire à la borne de Cramér-Rao. Cependant, comme le biais de cet estimateur n'est pas nul, celui-ci ne rentre pas dans le champ d'application du théorème."
   ]
  },
  {
   "cell_type": "markdown",
   "metadata": {},
   "source": [
    "### Question 6\n",
    "\n",
    "La médiane d'une loi exponentielle est : $M=\\frac{\\ln 2}{\\lambda}$\n",
    "\n",
    "$b(\\lambda,T_{1,\\eta})= E_{\\lambda}(\\eta T_1(X) - M)= \\frac{\\eta}{\\lambda}-\\frac{\\ln 2}{\\lambda} $\n",
    "\n",
    "$b(\\lambda,T_{1,\\eta})= 0 \\iff \\eta=\\ln(2)$\n",
    "\n",
    "Avec l'estimateur $T_{1,\\ln 2}$, la médiane est : "
   ]
  },
  {
   "cell_type": "code",
   "execution_count": 96,
   "metadata": {},
   "outputs": [
    {
     "name": "stdout",
     "output_type": "stream",
     "text": [
      "La médiane estimée est : 503.45800259270845 \n",
      "La médiane empirique est : 89.9 \n"
     ]
    }
   ],
   "source": [
    "estimated_median = np.log(2) * sum(costs)/len(costs)\n",
    "print(f\"La médiane estimée est : {estimated_median} \")\n",
    "empirical_median = np.median(costs)\n",
    "print(f\"La médiane empirique est : {empirical_median} \")\n"
   ]
  },
  {
   "cell_type": "markdown",
   "metadata": {},
   "source": [
    "### Question 7\n",
    "\n",
    "$\\frac{n-1}{n+1}\\leq\\ln 2 \\iff n-1\\leq \\ln 2(n+1) \\iff n\\leq \\frac{\\ln 2 +1}{1-\\ln 2}$\n",
    "\n",
    "Donc : $$R(\\lambda, T_{1,\\eta}) < R(\\lambda, T_1) \\: si \\: n<6$$\n",
    "       $$R(\\lambda, T_{1,\\eta}) \\geq R(\\lambda, T_1) \\: si \\: n\\geq6$$"
   ]
  },
  {
   "cell_type": "markdown",
   "metadata": {},
   "source": [
    "## Exercice 3 \n",
    "\n",
    "### Question 1 \n",
    "\n",
    "$E(X_1) < 10^9 \\iff \\lambda > 10^{-9}$\n",
    "Donc on pose $H_0 : \\lambda > 10^{-9}$ comme hypothèse nulle et $H_1 : \\lambda \\leq10^{-9}$ comme hypothèse alternative."
   ]
  },
  {
   "cell_type": "markdown",
   "metadata": {},
   "source": [
    "\n"
   ]
  }
 ],
 "metadata": {
  "kernelspec": {
   "display_name": "Python 3",
   "language": "python",
   "name": "python3"
  },
  "language_info": {
   "codemirror_mode": {
    "name": "ipython",
    "version": 3
   },
   "file_extension": ".py",
   "mimetype": "text/x-python",
   "name": "python",
   "nbconvert_exporter": "python",
   "pygments_lexer": "ipython3",
   "version": "3.7.4"
  }
 },
 "nbformat": 4,
 "nbformat_minor": 2
}
